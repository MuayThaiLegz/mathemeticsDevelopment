{
 "cells": [
  {
   "cell_type": "code",
   "execution_count": 5,
   "metadata": {},
   "outputs": [],
   "source": [
    "# Chapter four: Transforming vectors and graphics\n",
    "\n",
    "blue = 'C0'\n",
    "black = 'k'\n",
    "red = 'C3'\n",
    "green = 'C2'\n",
    "purple = 'C4'\n",
    "orange = 'C2'\n",
    "gray = 'gray'\n",
    "\n",
    "\n",
    "import numpy as np\n",
    "from math import sqrt, pi, ceil, floor\n",
    "import matplotlib\n",
    "import matplotlib.patches\n",
    "from matplotlib.collections import PatchCollection\n",
    "from matplotlib.patches import Polygon\n",
    "import numpy as np\n",
    "import matplotlib.pyplot as plt\n",
    "from matplotlib.pyplot import xlim, ylim\n",
    "from math import sqrt, pi\n",
    "import matplotlib\n",
    "import os\n",
    "from matplotlib.patches import Polygon, FancyArrowPatch\n",
    "from matplotlib.collections import PatchCollection\n",
    "import matplotlib.pyplot as plt\n",
    "from mpl_toolkits.mplot3d import Axes3D, proj3d\n",
    "from mpl_toolkits.mplot3d.art3d import Poly3DCollection\n",
    "import pygame\n",
    "from teapot import *\n",
    "from pygame.locals import *\n",
    "from OpenGL.GL import *\n",
    "from OpenGL.GLU import *\n",
    "import matplotlib.cm\n",
    "import  camera\n",
    "from vectors import *\n",
    "from math import *\n",
    "from transforms import *\n",
    "\n"
   ]
  },
  {
   "cell_type": "code",
   "execution_count": 13,
   "metadata": {},
   "outputs": [],
   "source": [
    "import pygame\n",
    "from pygame.locals import *\n",
    "from OpenGL.GL import *\n",
    "from OpenGL.GLU import *\n",
    "import matplotlib.cm\n",
    "import camera\n",
    "from vectors import *\n",
    "from math import *\n",
    "from transforms import *\n",
    "\n",
    "def normal(face):\n",
    "    return(cross(subtract(face[1], face[0]), subtract(face[2], face[0])))\n",
    "\n",
    "blues = matplotlib.cm.get_cmap('Blues')\n",
    "\n",
    "def shade(face,color_map=blues,light=(1,2,3)):\n",
    "    return color_map(1 - dot(unit(normal(face)), unit(light)))\n",
    "\n",
    "def Axes():\n",
    "    axes =  [\n",
    "        [(-1000,0,0),(1000,0,0)],\n",
    "        [(0,-1000,0),(0,1000,0)],\n",
    "        [(0,0,-1000),(0,0,1000)]\n",
    "    ]\n",
    "    glBegin(GL_LINES)\n",
    "    for axis in axes:\n",
    "        for vertex in axis:\n",
    "            glColor3fv((1,1,1))\n",
    "            glVertex3fv(vertex)\n",
    "    glEnd()\n",
    "\n",
    "def draw_model(faces, color_map=blues, light=(1,2,3),\n",
    "                glRotatefArgs=None,\n",
    "                get_matrix=None):\n",
    "    pygame.init()\n",
    "    display = (400,400)\n",
    "    window = pygame.display.set_mode(display, DOUBLEBUF|OPENGL)\n",
    "    cam = camera.default_camera\n",
    "    cam.set_window(window)\n",
    "    gluPerspective(45, 1, 0.1, 50.0)\n",
    "\n",
    "    glTranslatef(0.0,0.0, -5)\n",
    "    if glRotatefArgs:\n",
    "        glRotatef(*glRotatefArgs)\n",
    "    glEnable(GL_CULL_FACE)\n",
    "    glEnable(GL_DEPTH_TEST)\n",
    "    glCullFace(GL_BACK)\n",
    "\n",
    "    while cam.is_shooting():\n",
    "        for event in pygame.event.get():\n",
    "            if event.type == pygame.QUIT:\n",
    "                pygame.quit()\n",
    "                quit()\n",
    "\n",
    "        glClear(GL_COLOR_BUFFER_BIT|GL_DEPTH_BUFFER_BIT)\n",
    "        Axes()\n",
    "        glBegin(GL_TRIANGLES)\n",
    "        def do_matrix_transform(v):\n",
    "            if get_matrix:\n",
    "                m = get_matrix(pygame.time.get_ticks())\n",
    "                return multiply_matrix_vector(m, v)\n",
    "            else:\n",
    "                return v\n",
    "        transformed_faces = polygon_map(do_matrix_transform, faces)\n",
    "        for face in transformed_faces:\n",
    "            color = shade(face,color_map,light)\n",
    "            for vertex in face:\n",
    "                glColor3fv((color[0], color[1], color[2]))\n",
    "                glVertex3fv(vertex)\n",
    "        glEnd()\n",
    "        cam.tick()\n",
    "        pygame.display.flip()\n"
   ]
  },
  {
   "cell_type": "code",
   "execution_count": 14,
   "metadata": {},
   "outputs": [
    {
     "data": {
      "text/plain": [
       "[(1.2915, 1.0521480000000003, -0.5495),\n",
       " (0.9801319999999998, 1.124108, -0.9801359999999999),\n",
       " (0.9940000000000002, 1.0521480000000005, -0.994)]"
      ]
     },
     "execution_count": 14,
     "metadata": {},
     "output_type": "execute_result"
    }
   ],
   "source": [
    "# Multiplies an input vector by the scalar  2.0 and returns result\n",
    "\n",
    "\n",
    "from vectors import scale\n",
    "\n",
    "def scale2(v):\n",
    "    return scale(2.0, v)\n",
    "\n",
    "\n",
    "# Loads triangles with code with appendix C\n",
    "\n",
    "original_triangles = load_triangles()\n",
    "\n",
    "\n",
    "scaled_triangles = [\n",
    "    [scale2(vertex) for vertex in triangle]\n",
    "    for triangle  in  original_triangles\n",
    "]\n",
    "\n",
    "scaled_triangles[2]"
   ]
  },
  {
   "cell_type": "code",
   "execution_count": 15,
   "metadata": {},
   "outputs": [],
   "source": [
    "from vectors  import add\n",
    "\n",
    "def translateleft(v):\n",
    "    return add((-1,0,0), v)"
   ]
  },
  {
   "cell_type": "code",
   "execution_count": null,
   "metadata": {},
   "outputs": [],
   "source": [
    "scaled_translated_triangles = [\n",
    "    [translateleft(scale2(vertex)) for vertex in triangle]\n",
    "    for triangle in original_triangles\n",
    "]\n",
    "\n",
    "draw_model(scaled_translated_triangles)"
   ]
  },
  {
   "cell_type": "code",
   "execution_count": null,
   "metadata": {},
   "outputs": [],
   "source": []
  },
  {
   "cell_type": "code",
   "execution_count": null,
   "metadata": {},
   "outputs": [],
   "source": []
  }
 ],
 "metadata": {
  "interpreter": {
   "hash": "68e0345d912dd13694b55bd6d8732ad5c228f801fd2e73ce12fb15cf248784ef"
  },
  "kernelspec": {
   "display_name": "Python 3.8.13 ('blockchainDev')",
   "language": "python",
   "name": "python3"
  },
  "language_info": {
   "codemirror_mode": {
    "name": "ipython",
    "version": 3
   },
   "file_extension": ".py",
   "mimetype": "text/x-python",
   "name": "python",
   "nbconvert_exporter": "python",
   "pygments_lexer": "ipython3",
   "version": "3.8.13"
  },
  "orig_nbformat": 4
 },
 "nbformat": 4,
 "nbformat_minor": 2
}
