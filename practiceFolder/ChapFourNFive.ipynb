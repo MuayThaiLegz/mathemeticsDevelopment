{
 "cells": [
  {
   "cell_type": "code",
   "execution_count": 17,
   "metadata": {},
   "outputs": [],
   "source": [
    "\n",
    "import numpy as np\n",
    "from math import sqrt, pi, ceil, floor\n",
    "import matplotlib\n",
    "import matplotlib.patches\n",
    "from matplotlib.collections import PatchCollection\n",
    "from matplotlib.patches import Polygon\n",
    "import numpy as np\n",
    "import matplotlib.pyplot as plt\n",
    "from matplotlib.pyplot import xlim, ylim\n",
    "from math import sqrt, pi\n",
    "import matplotlib\n",
    "import os\n",
    "from matplotlib.patches import Polygon, FancyArrowPatch\n",
    "from matplotlib.collections import PatchCollection\n",
    "import matplotlib.pyplot as plt\n",
    "from mpl_toolkits.mplot3d import Axes3D, proj3d\n",
    "from mpl_toolkits.mplot3d.art3d import Poly3DCollection\n",
    "import pygame\n",
    "from teapot import*\n",
    "from pygame.locals import *\n",
    "from OpenGL.GL import *\n",
    "from OpenGL.GLU import *\n",
    "import matplotlib.cm\n",
    "import  camera\n",
    "from vectors import *\n",
    "from math import *\n",
    "from transforms import *\n",
    "\n",
    "\n"
   ]
  },
  {
   "cell_type": "code",
   "execution_count": 18,
   "metadata": {},
   "outputs": [
    {
     "data": {
      "text/plain": [
       "[(1.2915, 1.0521480000000003, -0.5495),\n",
       " (0.9801319999999998, 1.124108, -0.9801359999999999),\n",
       " (0.9940000000000002, 1.0521480000000005, -0.994)]"
      ]
     },
     "execution_count": 18,
     "metadata": {},
     "output_type": "execute_result"
    }
   ],
   "source": [
    "# Multiplies an input vector by the scalar  2.0 and returns result\n",
    "\n",
    "\n",
    "from vectors import scale\n",
    "\n",
    "def scale2(v):\n",
    "    return scale(2.0, v)\n",
    "\n",
    "from vectors import *\n",
    "def linear_combination(scalars,*vectors):\n",
    "    scaled = [scale(s,v) for s,v in zip(scalars,vectors)]\n",
    "    return add(*scaled)\n",
    "# Loads triangles with code with appendix C\n",
    "\n",
    "original_triangles = load_triangles()\n",
    "\n",
    "\n",
    "scaled_triangles = [\n",
    "    [scale2(vertex) for vertex in triangle]\n",
    "    for triangle  in  original_triangles\n",
    "]\n",
    "\n",
    "scaled_triangles[2]"
   ]
  },
  {
   "cell_type": "code",
   "execution_count": 19,
   "metadata": {},
   "outputs": [],
   "source": [
    "from vectors  import add\n",
    "\n",
    "def translateleft(v):\n",
    "    return add((-1,0,0), v)"
   ]
  },
  {
   "cell_type": "code",
   "execution_count": 20,
   "metadata": {},
   "outputs": [],
   "source": [
    "scaled_translated_triangles = [\n",
    "    [translateleft(scale2(vertex)) for vertex in triangle]\n",
    "    for triangle in original_triangles\n",
    "]\n",
    "\n",
    "#draw_model(scaled_translated_triangles)"
   ]
  },
  {
   "cell_type": "code",
   "execution_count": 21,
   "metadata": {},
   "outputs": [],
   "source": [
    "# composing vector transformations\n",
    "\n",
    "def scale2_then_translateleft(v):\n",
    "    return translateleft(scale2(v))"
   ]
  },
  {
   "cell_type": "code",
   "execution_count": 22,
   "metadata": {},
   "outputs": [],
   "source": [
    "# Chapter 5: Computing transformations with matrices\n",
    "    # We can write Py code that multiplies a matrix B by a vector \n",
    "    \n",
    "matrix = (\n",
    "    (0,2,1),\n",
    "    (0,1,0),\n",
    "    (1,0,-1)\n",
    ")\n",
    "\n",
    "vector = (3, -2, 5)"
   ]
  },
  {
   "cell_type": "code",
   "execution_count": 23,
   "metadata": {},
   "outputs": [
    {
     "data": {
      "text/plain": [
       "(1, -2, -2)"
      ]
     },
     "execution_count": 23,
     "metadata": {},
     "output_type": "execute_result"
    }
   ],
   "source": [
    "list(zip(*B))\n",
    "\n",
    "# Gets linear combination of these vectors, where the scalars arethe coorsdinates of v. Serving as list of scalars\n",
    "\n",
    "def multiply_matrix_vector(B, v):\n",
    "    return linear_combination(vector, *zip(*matrix))\n",
    "\n",
    "multiply_matrix_vector(B, v)"
   ]
  },
  {
   "cell_type": "code",
   "execution_count": 24,
   "metadata": {},
   "outputs": [],
   "source": [
    "def matrix_multiply(a,b):\n",
    "    return tuple(\n",
    "        tuple(dot(row,col) for col in zip(*b))\n",
    "        for row in a\n",
    "    )"
   ]
  },
  {
   "cell_type": "code",
   "execution_count": 25,
   "metadata": {},
   "outputs": [
    {
     "data": {
      "text/plain": [
       "((0, 3, 1), (1, 2, 0), (1, 1, 0), (0, 1, 0))"
      ]
     },
     "execution_count": 25,
     "metadata": {},
     "output_type": "execute_result"
    }
   ],
   "source": [
    "a = ((1,1,0),(1,0,1),(1,-1,1), (0,1,0))\n",
    "b = ((0,2,1),(0,1,0),(1,0,-1),(1,0,0))\n",
    "\n",
    "matrix_multiply(a,b)"
   ]
  },
  {
   "cell_type": "code",
   "execution_count": 26,
   "metadata": {},
   "outputs": [
    {
     "data": {
      "text/plain": [
       "((2, -1), (4, -3))"
      ]
     },
     "execution_count": 26,
     "metadata": {},
     "output_type": "execute_result"
    }
   ],
   "source": [
    "c = ((1,2),(3,4))\n",
    "d = ((0,-1),(1,0))\n",
    "\n",
    "matrix_multiply(c,d)\n",
    "\n"
   ]
  },
  {
   "cell_type": "code",
   "execution_count": null,
   "metadata": {},
   "outputs": [],
   "source": [
    "def get_rotation_matrix(t):\n",
    "    seconds = t/1000\n",
    "    return (\n",
    "        (cos(seconds), 0, -sin(seconds)),\n",
    "        (0,1,0),\n",
    "        (sin(seconds), 0, cos(seconds))\n",
    "    )\n",
    "    \n",
    "#draw_model(load_triangles(),\n",
    " #          get_matrix = get_rotation_matrix)\n"
   ]
  },
  {
   "cell_type": "code",
   "execution_count": 49,
   "metadata": {},
   "outputs": [],
   "source": [
    "def infer_matrix(n, transformation):\n",
    "    def standard_basis_vector(i):\n",
    "        return tuple (1 if i==j else 0 for j in range(1, n+1))\n",
    "    standard_basis = [standard_basis_vector(i) for i in range(1, n+1)]\n",
    "    cols = [transformation(v) for v in standard_basis]\n",
    "    return tuple(zip(*cols))"
   ]
  },
  {
   "cell_type": "code",
   "execution_count": 50,
   "metadata": {},
   "outputs": [
    {
     "data": {
      "text/plain": [
       "((6.123233995736766e-17, -1.0, 0.0),\n",
       " (1.0, 1.2246467991473532e-16, 0.0),\n",
       " (0, 0, 1))"
      ]
     },
     "execution_count": 50,
     "metadata": {},
     "output_type": "execute_result"
    }
   ],
   "source": [
    "from transforms import rotate_z_by\n",
    "\n",
    "infer_matrix(3, rotate_z_by(pi/2))"
   ]
  },
  {
   "cell_type": "code",
   "execution_count": 51,
   "metadata": {},
   "outputs": [
    {
     "data": {
      "text/plain": [
       "(-6, -2, 3, 1)"
      ]
     },
     "execution_count": 51,
     "metadata": {},
     "output_type": "execute_result"
    }
   ],
   "source": [
    "def multiply_matrix_vector(matrix,vector):\n",
    "    return tuple(\n",
    "        sum(vector_entry * matrix_entry\n",
    "            for vector_entry, matrix_entry in zip(row,vector))\n",
    "        for row in matrix\n",
    "    )\n",
    "    \n",
    "multiply_matrix_vector(b,v) #should be same as before"
   ]
  },
  {
   "cell_type": "code",
   "execution_count": 52,
   "metadata": {},
   "outputs": [
    {
     "data": {
      "text/plain": [
       "(-6, -2, 3, 1)"
      ]
     },
     "execution_count": 52,
     "metadata": {},
     "output_type": "execute_result"
    }
   ],
   "source": [
    "def multiply_matrix_vector(matrix,vector):\n",
    "    return tuple(\n",
    "        dot(row,vector)\n",
    "        for row in matrix\n",
    "    )\n",
    "multiply_matrix_vector(b,v) #should be same as before\n"
   ]
  },
  {
   "cell_type": "code",
   "execution_count": null,
   "metadata": {},
   "outputs": [],
   "source": []
  }
 ],
 "metadata": {
  "interpreter": {
   "hash": "68e0345d912dd13694b55bd6d8732ad5c228f801fd2e73ce12fb15cf248784ef"
  },
  "kernelspec": {
   "display_name": "Python 3.8.13 ('blockchainDev')",
   "language": "python",
   "name": "python3"
  },
  "language_info": {
   "codemirror_mode": {
    "name": "ipython",
    "version": 3
   },
   "file_extension": ".py",
   "mimetype": "text/x-python",
   "name": "python",
   "nbconvert_exporter": "python",
   "pygments_lexer": "ipython3",
   "version": "3.8.13"
  },
  "orig_nbformat": 4
 },
 "nbformat": 4,
 "nbformat_minor": 2
}
