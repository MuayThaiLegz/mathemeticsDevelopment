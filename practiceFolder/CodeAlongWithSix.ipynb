{
 "cells": [
  {
   "cell_type": "code",
   "execution_count": 28,
   "metadata": {},
   "outputs": [
    {
     "name": "stdout",
     "output_type": "stream",
     "text": [
      "1 True Vec2(3.0,4.0)\n"
     ]
    }
   ],
   "source": [
    "# Chapter 6 Generalizing to higher dimensions\n",
    "\n",
    "class Vector(metaclass=ABCMeta):\n",
    "    @abstractmethod\n",
    "    def scale(self, scalar):\n",
    "        pass\n",
    "    @abstractmethod\n",
    "    def add(self, other):\n",
    "        pass\n",
    "    \n",
    "    def __add__(self, other):\n",
    "            return self.add(other)\n",
    "    def __mul__(self, scalar):\n",
    "        return self.scale(scalar)\n",
    "    def __rmul__(self,scalar):\n",
    "        return self.scale(scalar)\n",
    "\n",
    "class Vec2(Vector):\n",
    "    def __init__(self,x,y):\n",
    "        self.x = x\n",
    "        self.y = y\n",
    "    def add(self, v2):\n",
    "        return Vec2(self.x + v2.x, self.y + v2.y)\n",
    "    \n",
    "    def scale(self, scalar ):\n",
    "        return Vec2(scalar * self.x, scalar * self.y)\n",
    "    \n",
    "    def __eq__(self, other):\n",
    "        return self.x == other.x and self.y == other.y\n",
    "    \n",
    "    def __repr__(self):\n",
    "        return \"Vec2({},{})\".format(self.x, self.y)\n",
    "    \n",
    "\n",
    "    \n",
    "# Doing vector add with vec2 looks like this \n",
    "\n",
    "v = Vec2(3,4)\n",
    "w = v.add(Vec2(-2,6))\n",
    "print(w.x, Vec2(3,4) == Vec2(3,4), 3.0 * Vec2(1,0) + 4.0 * Vec2(0,1))"
   ]
  },
  {
   "cell_type": "code",
   "execution_count": 29,
   "metadata": {},
   "outputs": [],
   "source": [
    "# Building a vector base class:\n",
    "\n",
    "from abc import ABCMeta, abstractmethod"
   ]
  },
  {
   "cell_type": "code",
   "execution_count": 35,
   "metadata": {},
   "outputs": [],
   "source": [
    "class Vector(metaclass=ABCMeta):\n",
    "    @abstractmethod\n",
    "    def scale(self, scalar):\n",
    "        pass\n",
    "    @abstractmethod\n",
    "    def add(self, other):\n",
    "        pass\n",
    "    \n",
    "    def __add__(self, other):\n",
    "        return self.add(other)\n",
    "    def __mul__(self, scalar):\n",
    "        return self.scale(scalar)\n",
    "    def __rmul__(self,scalar):\n",
    "        return self.scale(scalar)\n",
    "    def subtract(self, other):\n",
    "        return self.add(-1 * other)\n",
    "    def __sub__(self, other):\n",
    "        return self.subtract(other)\n",
    "    \n",
    "class Vec2(Vector):\n",
    "    def __init__(self,x,y):\n",
    "        self.x = x\n",
    "        self.y = y\n",
    "    def add(self,other):\n",
    "        return Vec2(self.x + other.x, self.y + other.y)\n",
    "    def scale(self,scalar):\n",
    "        return Vec2(scalar * self.x, scalar * self.y)\n",
    "    def __eq__(self,other):\n",
    "        return self.x == other.x and self.y == other.y\n",
    "    def __repr__(self):\n",
    "        return \"Vec2({},{})\".format(self.x, self.y)"
   ]
  },
  {
   "cell_type": "code",
   "execution_count": 36,
   "metadata": {},
   "outputs": [
    {
     "name": "stdout",
     "output_type": "stream",
     "text": [
      "Vec2(-4,2)\n"
     ]
    }
   ],
   "source": [
    "   \n",
    "print(Vec2(1,3) - Vec2(5,1))\n"
   ]
  },
  {
   "cell_type": "code",
   "execution_count": 37,
   "metadata": {},
   "outputs": [
    {
     "data": {
      "text/plain": [
       "True"
      ]
     },
     "execution_count": 37,
     "metadata": {},
     "output_type": "execute_result"
    }
   ],
   "source": [
    "# Unit testing vector spaces classes(much needed)\n",
    "\n",
    "s =-3\n",
    "u,v = Vec2(42,-10), Vec2(1.5, 8)\n",
    "\n",
    "s * (u + v) == s * v + s * u\n",
    "\n"
   ]
  },
  {
   "cell_type": "code",
   "execution_count": 38,
   "metadata": {},
   "outputs": [],
   "source": [
    "from random import uniform\n",
    "\n",
    "def random_scalar():\n",
    "    return uniform(-10,10)\n",
    "\n",
    "def random_vec2():\n",
    "    return Vec2(random_scalar(), random_scalar())\n",
    "\n",
    "a = random_scalar()\n",
    "\n",
    "u, v = random_vec2(), random_vec2()"
   ]
  },
  {
   "cell_type": "code",
   "execution_count": 44,
   "metadata": {},
   "outputs": [],
   "source": [
    "from math import isclose\n",
    "\n",
    "def approx_equal_vec2(v,w):\n",
    "    return isclose(v.x, w.x) and isclose(v.y, w.y)\n",
    "\n",
    "for _ in range(0,100):\n",
    "    a = random_scalar()\n",
    "    u, v = random_vec2(), random_vec2()\n",
    "    assert approx_equal_vec2(a *(u+v), a * v + a * u)"
   ]
  },
  {
   "cell_type": "code",
   "execution_count": 45,
   "metadata": {},
   "outputs": [],
   "source": [
    "def testVec(eq, a, b, u, v, w):\n",
    "    assert eq(u + v, v + u)\n",
    "    assert eq(u + (v + w), (u + v) + w)\n",
    "    assert eq(a * (b * v), (a * b) * v)\n",
    "    assert eq(1 * v, v)\n",
    "    assert eq((a + b) * v, a * v + b * v)\n",
    "    assert eq(a * v + a * w, a * (v + w))\n",
    "    \n",
    "    \n"
   ]
  },
  {
   "cell_type": "code",
   "execution_count": 48,
   "metadata": {},
   "outputs": [],
   "source": [
    "\n",
    "for i in range(0,100):\n",
    "    a, b = random_scalar(), random_scalar()\n",
    "    u,v,w = random_vec2(), random_vec2(), random_vec2()\n",
    "    testVec(approx_equal_vec2, a,b,u,v,w)"
   ]
  },
  {
   "cell_type": "code",
   "execution_count": 49,
   "metadata": {},
   "outputs": [],
   "source": [
    "# Exploring different vector spaces\n",
    "# Enumerating all coordinate vector spaces\n",
    "class Vec1(Vector):\n",
    "    def __init__(self,x):\n",
    "        self.x = x\n",
    "    def add(self,other):\n",
    "        return Vec1(self.x + other.x)\n",
    "    def scale(self,scalar):\n",
    "        return Vec1(scalar * self.x)\n",
    "    @classmethod\n",
    "    def zero(cls):\n",
    "        return Vec1(0)\n",
    "    def __eq__(self,other):\n",
    "        return self.x == other.x\n",
    "    def __repr__(self):\n",
    "        return \"Vec1({})\".format(self.x)\n",
    "    \n",
    "    \n",
    "    \n",
    "class Vec0(Vector):\n",
    "    def __init__(self):\n",
    "        pass\n",
    "    def add(self,other):\n",
    "        return Vec0()\n",
    "    def scale(self,scalar):\n",
    "        return Vec0()\n",
    "    @classmethod\n",
    "    def zero(cls):\n",
    "        return Vec0()\n",
    "    def __eq__(self,other):\n",
    "        return self.__class__ == other.__class__ == Vec0\n",
    "    def __repr__(self):\n",
    "        return \"Vec0()\""
   ]
  },
  {
   "cell_type": "code",
   "execution_count": 50,
   "metadata": {},
   "outputs": [],
   "source": [
    "class CarForSale():\n",
    "    def __init__(self, model_year, mileage, price, posted_datetime,\n",
    "                 model, source, location, description):\n",
    "        self.model_year = model_year\n",
    "        self.mileage = mileage\n",
    "        self.price = price\n",
    "        self.posted_datetime = posted_datetime\n",
    "        self.model = model\n",
    "        self.source = source\n",
    "        self.location = location\n",
    "        self.description = description\n",
    "        "
   ]
  },
  {
   "cell_type": "code",
   "execution_count": null,
   "metadata": {},
   "outputs": [],
   "source": []
  }
 ],
 "metadata": {
  "interpreter": {
   "hash": "68e0345d912dd13694b55bd6d8732ad5c228f801fd2e73ce12fb15cf248784ef"
  },
  "kernelspec": {
   "display_name": "Python 3.8.13 ('blockchainDev')",
   "language": "python",
   "name": "python3"
  },
  "language_info": {
   "codemirror_mode": {
    "name": "ipython",
    "version": 3
   },
   "file_extension": ".py",
   "mimetype": "text/x-python",
   "name": "python",
   "nbconvert_exporter": "python",
   "pygments_lexer": "ipython3",
   "version": "3.8.13"
  },
  "orig_nbformat": 4
 },
 "nbformat": 4,
 "nbformat_minor": 2
}
