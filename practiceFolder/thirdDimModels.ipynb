{
 "cells": [
  {
   "cell_type": "code",
   "execution_count": 9,
   "id": "d3cea71f",
   "metadata": {},
   "outputs": [],
   "source": [
    "import pygame\n",
    "\n",
    "from pygame.locals import *\n",
    "\n",
    "from OpenGL.GL import * \n",
    "\n",
    "from OpenGL.GLU import * \n",
    "\n",
    "import matplotlib.cm\n",
    "\n",
    "#from vector_drawing import *\n",
    "\n",
    "from math import * "
   ]
  },
  {
   "cell_type": "code",
   "execution_count": null,
   "id": "ddd66aed",
   "metadata": {},
   "outputs": [],
   "source": []
  }
 ],
 "metadata": {
  "kernelspec": {
   "display_name": "dev",
   "language": "python",
   "name": "dev"
  },
  "language_info": {
   "codemirror_mode": {
    "name": "ipython",
    "version": 3
   },
   "file_extension": ".py",
   "mimetype": "text/x-python",
   "name": "python",
   "nbconvert_exporter": "python",
   "pygments_lexer": "ipython3",
   "version": "3.7.11"
  }
 },
 "nbformat": 4,
 "nbformat_minor": 5
}
